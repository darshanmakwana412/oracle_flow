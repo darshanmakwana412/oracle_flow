{
 "cells": [
  {
   "cell_type": "markdown",
   "metadata": {},
   "source": [
    "## Common Task 1. Electron/photon classification"
   ]
  },
  {
   "cell_type": "code",
   "execution_count": 1,
   "metadata": {},
   "outputs": [
    {
     "name": "stdout",
     "output_type": "stream",
     "text": [
      "--2025-03-29 12:27:03--  https://cernbox.cern.ch/remote.php/dav/public-files/AtBT8y4MiQYFcgc/SinglePhotonPt50_IMGCROPS_n249k_RHv1.hdf5\n",
      "Resolving cernbox.cern.ch (cernbox.cern.ch)... 137.138.120.151, 128.142.53.35, 128.142.53.28, ...\n",
      "Connecting to cernbox.cern.ch (cernbox.cern.ch)|137.138.120.151|:443... connected.\n",
      "HTTP request sent, awaiting response... 200 OK\n",
      "Length: 119703858 (114M) [application/octet-stream]\n",
      "Saving to: ‘photon.hdf5’\n",
      "\n",
      "photon.hdf5         100%[===================>] 114.16M  18.6MB/s    in 6.1s    \n",
      "\n",
      "2025-03-29 12:27:09 (18.7 MB/s) - ‘photon.hdf5’ saved [119703858/119703858]\n",
      "\n",
      "--2025-03-29 12:27:09--  https://cernbox.cern.ch/remote.php/dav/public-files/FbXw3V4XNyYB3oA/SingleElectronPt50_IMGCROPS_n249k_RHv1.hdf5\n",
      "Resolving cernbox.cern.ch (cernbox.cern.ch)... 128.142.53.35, 128.142.170.17, 137.138.120.151, ...\n",
      "Connecting to cernbox.cern.ch (cernbox.cern.ch)|128.142.53.35|:443... connected.\n",
      "HTTP request sent, awaiting response... 200 OK\n",
      "Length: 128927319 (123M) [application/octet-stream]\n",
      "Saving to: ‘electron.hdf5’\n",
      "\n",
      "electron.hdf5       100%[===================>] 122.95M  2.20MB/s    in 44s     \n",
      "\n",
      "2025-03-29 12:27:54 (2.80 MB/s) - ‘electron.hdf5’ saved [128927319/128927319]\n",
      "\n"
     ]
    }
   ],
   "source": [
    "!wget -O photon.hdf5 https://cernbox.cern.ch/remote.php/dav/public-files/AtBT8y4MiQYFcgc/SinglePhotonPt50_IMGCROPS_n249k_RHv1.hdf5\n",
    "!wget -O electron.hdf5 https://cernbox.cern.ch/remote.php/dav/public-files/FbXw3V4XNyYB3oA/SingleElectronPt50_IMGCROPS_n249k_RHv1.hdf5"
   ]
  },
  {
   "cell_type": "code",
   "execution_count": 2,
   "metadata": {},
   "outputs": [],
   "source": [
    "import h5py\n",
    "import torch\n",
    "import numpy as np\n",
    "import matplotlib.pyplot as plt\n",
    "import torch.nn as nn\n",
    "from torch.utils.data import Dataset, DataLoader, random_split\n",
    "from torchvision import transforms\n",
    "from torch.optim.lr_scheduler import OneCycleLR\n",
    "from torchvision import models\n",
    "from dataclasses import dataclass\n",
    "from typing import ClassVar, Optional\n",
    "\n",
    "from tqdm.notebook import tqdm"
   ]
  },
  {
   "cell_type": "code",
   "execution_count": 3,
   "metadata": {},
   "outputs": [],
   "source": [
    "@dataclass\n",
    "class Config:\n",
    "    # dataset config\n",
    "    file_paths: ClassVar[list[str]] = [\"electron.hdf5\", \"photon.hdf5\"]\n",
    "    batch_size: int = 256\n",
    "    num_workers: int = 24\n",
    "    split_ratio: float = 0.8\n",
    "    rotation_transform: float = 5.0\n",
    "\n",
    "    # training config\n",
    "    epochs: int = 15\n",
    "    label_smoothing: float = 0.05\n",
    "    lr: float = 1e-3\n",
    "    weight_decay: float = 1e-4\n",
    "    max_lr: float = 1e-3\n",
    "\n",
    "    device: str = \"cuda\"\n",
    "\n",
    "cfg = Config()"
   ]
  },
  {
   "cell_type": "code",
   "execution_count": 4,
   "metadata": {},
   "outputs": [],
   "source": [
    "class ParticleDataset(Dataset):\n",
    "    def __init__(self, file_paths, transform=None):\n",
    "        self.transform = transform\n",
    "        self._load_data(file_paths)\n",
    "\n",
    "    def _load_data(self, file_paths):\n",
    "        data_x_list = []\n",
    "        data_y_list = []\n",
    "        for file_path in file_paths:\n",
    "            with h5py.File(file_path, 'r') as f:\n",
    "                data_x_list.append(np.array(f['X']))\n",
    "                data_y_list.append(np.array(f['y']))\n",
    "        self.data_x = np.concatenate(data_x_list, axis=0)\n",
    "        self.data_y = np.concatenate(data_y_list, axis=0)\n",
    "        self.total_samples = self.data_x.shape[0]\n",
    "\n",
    "    def __len__(self):\n",
    "        return self.total_samples\n",
    "\n",
    "    def __getitem__(self, idx):\n",
    "        x = self.data_x[idx]\n",
    "        y = int(self.data_y[idx])\n",
    "        x = torch.from_numpy(x.astype(np.float32)).permute(2, 0, 1)\n",
    "        if self.transform:\n",
    "            x = self.transform(x)\n",
    "        return x, y\n",
    "\n",
    "data_transforms = transforms.Compose([\n",
    "    transforms.RandomHorizontalFlip(),\n",
    "    transforms.RandomVerticalFlip(),\n",
    "    transforms.RandomRotation(cfg.rotation_transform),\n",
    "    # transforms.Normalize(mean=[0.5, 0.5], std=[0.2, 0.2])\n",
    "])\n",
    "\n",
    "full_dataset = ParticleDataset(cfg.file_paths, transform=data_transforms)\n",
    "\n",
    "train_size = int(cfg.split_ratio * len(full_dataset))\n",
    "val_size = len(full_dataset) - train_size\n",
    "train_dataset, val_dataset = random_split(full_dataset, [train_size, val_size])\n",
    "\n",
    "train_loader = DataLoader(train_dataset, batch_size=cfg.batch_size, shuffle=True, num_workers=cfg.num_workers, pin_memory=True)\n",
    "val_loader   = DataLoader(val_dataset, batch_size=cfg.batch_size, shuffle=False, num_workers=cfg.num_workers, pin_memory=True)"
   ]
  },
  {
   "cell_type": "code",
   "execution_count": 5,
   "metadata": {},
   "outputs": [],
   "source": [
    "def load_model(model_path: Optional[str] = None):\n",
    "    model = models.resnet18(weights='IMAGENET1K_V1')\n",
    "    original_conv1 = model.conv1\n",
    "    model.conv1 = nn.Conv2d(\n",
    "        in_channels=2,\n",
    "        out_channels=original_conv1.out_channels,\n",
    "        kernel_size=original_conv1.kernel_size,\n",
    "        stride=original_conv1.stride,\n",
    "        padding=original_conv1.padding,\n",
    "        bias=original_conv1.bias is not None\n",
    "    )\n",
    "    with torch.no_grad():\n",
    "        # compute the mean of the original weights across the input channels\n",
    "        #  and epeat the mean weights to match the new number of input channels\n",
    "        mean_weight = original_conv1.weight.mean(dim=1, keepdim=True)\n",
    "        model.conv1.weight[:] = mean_weight.repeat(1, 2, 1, 1)\n",
    "\n",
    "    num_ftrs = model.fc.in_features\n",
    "    model.fc = nn.Linear(num_ftrs, 2)\n",
    "    if model_path:\n",
    "        model.load_state_dict(torch.load(model_path, map_location=\"cpu\", weights_only=True))\n",
    "    model.to(cfg.device)\n",
    "    return model\n",
    "\n",
    "model = load_model()"
   ]
  },
  {
   "cell_type": "code",
   "execution_count": 6,
   "metadata": {},
   "outputs": [],
   "source": [
    "criterion = nn.CrossEntropyLoss(label_smoothing=cfg.label_smoothing)\n",
    "optimizer = torch.optim.Adam(model.parameters(), lr=cfg.lr, weight_decay=cfg.weight_decay)\n",
    "steps_per_epoch = len(train_loader)\n",
    "scheduler = OneCycleLR(optimizer, max_lr=cfg.max_lr, epochs=cfg.epochs, steps_per_epoch=steps_per_epoch)\n",
    "\n",
    "train_losses = []\n",
    "val_losses = []\n",
    "train_accuracies = []\n",
    "val_accuracies = []\n",
    "\n",
    "def train_one_epoch(model, loader, optimizer, scheduler, criterion, device):\n",
    "    model.train()\n",
    "    running_loss = 0.0\n",
    "    correct = 0\n",
    "    total = 0\n",
    "    pbar = tqdm(loader)\n",
    "    for inputs, labels in pbar:\n",
    "        inputs, labels = inputs.to(device), labels.to(device)\n",
    "        optimizer.zero_grad()\n",
    "        outputs = model(inputs)\n",
    "        loss = criterion(outputs, labels)\n",
    "        loss.backward()\n",
    "        optimizer.step()\n",
    "        scheduler.step()\n",
    "\n",
    "        running_loss += loss.item() * inputs.size(0)\n",
    "        _, preds = torch.max(outputs, 1)\n",
    "        correct += (preds == labels).sum().item()\n",
    "        total += labels.size(0)\n",
    "\n",
    "        pbar.set_description(f\"Loss: {loss.item():.5f} Running Loss: {running_loss / total:.5f}\")\n",
    "\n",
    "    epoch_loss = running_loss / total\n",
    "    epoch_acc = correct / total\n",
    "    return epoch_loss, epoch_acc\n",
    "\n",
    "def evaluate(model, loader, criterion, device):\n",
    "    model.eval()\n",
    "    running_loss = 0.0\n",
    "    correct = 0\n",
    "    total = 0\n",
    "    with torch.no_grad():\n",
    "        for inputs, labels in loader:\n",
    "            inputs, labels = inputs.to(device), labels.to(device)\n",
    "            outputs = model(inputs)\n",
    "            loss = criterion(outputs, labels)\n",
    "            running_loss += loss.item() * inputs.size(0)\n",
    "            _, preds = torch.max(outputs, 1)\n",
    "            correct += (preds == labels).sum().item()\n",
    "            total += labels.size(0)\n",
    "    epoch_loss = running_loss / total\n",
    "    epoch_acc = correct / total\n",
    "    return epoch_loss, epoch_acc"
   ]
  },
  {
   "cell_type": "code",
   "execution_count": 7,
   "metadata": {},
   "outputs": [
    {
     "data": {
      "application/vnd.jupyter.widget-view+json": {
       "model_id": "a39a3eeba0d6439fbec22fb219c786f9",
       "version_major": 2,
       "version_minor": 0
      },
      "text/plain": [
       "  0%|          | 0/15 [00:00<?, ?it/s]"
      ]
     },
     "metadata": {},
     "output_type": "display_data"
    },
    {
     "data": {
      "application/vnd.jupyter.widget-view+json": {
       "model_id": "5ee30cc1e92c48e0bfc7d996b7f18ca7",
       "version_major": 2,
       "version_minor": 0
      },
      "text/plain": [
       "  0%|          | 0/1557 [00:00<?, ?it/s]"
      ]
     },
     "metadata": {},
     "output_type": "display_data"
    },
    {
     "name": "stdout",
     "output_type": "stream",
     "text": [
      "Epoch 1/15: Train Loss: 0.6861, Train Acc: 0.5592 | Val Loss: 0.6683, Val Acc: 0.5936\n"
     ]
    },
    {
     "data": {
      "application/vnd.jupyter.widget-view+json": {
       "model_id": "469c822be57a4f16b491388dc5b2e8a1",
       "version_major": 2,
       "version_minor": 0
      },
      "text/plain": [
       "  0%|          | 0/1557 [00:00<?, ?it/s]"
      ]
     },
     "metadata": {},
     "output_type": "display_data"
    },
    {
     "name": "stdout",
     "output_type": "stream",
     "text": [
      "Epoch 2/15: Train Loss: 0.6581, Train Acc: 0.6146 | Val Loss: 0.6481, Val Acc: 0.6313\n"
     ]
    },
    {
     "data": {
      "application/vnd.jupyter.widget-view+json": {
       "model_id": "1d5884bfe5e14249bac4fd251a2c8812",
       "version_major": 2,
       "version_minor": 0
      },
      "text/plain": [
       "  0%|          | 0/1557 [00:00<?, ?it/s]"
      ]
     },
     "metadata": {},
     "output_type": "display_data"
    },
    {
     "name": "stdout",
     "output_type": "stream",
     "text": [
      "Epoch 3/15: Train Loss: 0.6314, Train Acc: 0.6549 | Val Loss: 0.6368, Val Acc: 0.6457\n"
     ]
    },
    {
     "data": {
      "application/vnd.jupyter.widget-view+json": {
       "model_id": "9aa11902287c4b5882f5621448022c7d",
       "version_major": 2,
       "version_minor": 0
      },
      "text/plain": [
       "  0%|          | 0/1557 [00:00<?, ?it/s]"
      ]
     },
     "metadata": {},
     "output_type": "display_data"
    },
    {
     "name": "stdout",
     "output_type": "stream",
     "text": [
      "Epoch 4/15: Train Loss: 0.6149, Train Acc: 0.6771 | Val Loss: 0.6091, Val Acc: 0.6850\n"
     ]
    },
    {
     "data": {
      "application/vnd.jupyter.widget-view+json": {
       "model_id": "ae4b36f85d1b406ca3b5013caf59702b",
       "version_major": 2,
       "version_minor": 0
      },
      "text/plain": [
       "  0%|          | 0/1557 [00:00<?, ?it/s]"
      ]
     },
     "metadata": {},
     "output_type": "display_data"
    },
    {
     "name": "stdout",
     "output_type": "stream",
     "text": [
      "Epoch 5/15: Train Loss: 0.6055, Train Acc: 0.6885 | Val Loss: 0.6085, Val Acc: 0.6852\n"
     ]
    },
    {
     "data": {
      "application/vnd.jupyter.widget-view+json": {
       "model_id": "f7f289bb7c76417f98eb05a4cf05de31",
       "version_major": 2,
       "version_minor": 0
      },
      "text/plain": [
       "  0%|          | 0/1557 [00:00<?, ?it/s]"
      ]
     },
     "metadata": {},
     "output_type": "display_data"
    },
    {
     "name": "stdout",
     "output_type": "stream",
     "text": [
      "Epoch 6/15: Train Loss: 0.5983, Train Acc: 0.6961 | Val Loss: 0.6401, Val Acc: 0.6414\n"
     ]
    },
    {
     "data": {
      "application/vnd.jupyter.widget-view+json": {
       "model_id": "4bf9c4b0b39c4ad8baa55ef09875e370",
       "version_major": 2,
       "version_minor": 0
      },
      "text/plain": [
       "  0%|          | 0/1557 [00:00<?, ?it/s]"
      ]
     },
     "metadata": {},
     "output_type": "display_data"
    },
    {
     "name": "stdout",
     "output_type": "stream",
     "text": [
      "Epoch 7/15: Train Loss: 0.5926, Train Acc: 0.7019 | Val Loss: 0.5900, Val Acc: 0.7024\n"
     ]
    },
    {
     "data": {
      "application/vnd.jupyter.widget-view+json": {
       "model_id": "f644ce8982a146f0915868217296ce06",
       "version_major": 2,
       "version_minor": 0
      },
      "text/plain": [
       "  0%|          | 0/1557 [00:00<?, ?it/s]"
      ]
     },
     "metadata": {},
     "output_type": "display_data"
    },
    {
     "name": "stdout",
     "output_type": "stream",
     "text": [
      "Epoch 8/15: Train Loss: 0.5874, Train Acc: 0.7063 | Val Loss: 0.5890, Val Acc: 0.7059\n"
     ]
    },
    {
     "data": {
      "application/vnd.jupyter.widget-view+json": {
       "model_id": "21ae5b8e9ce941b4bdca82b0cfc6cf28",
       "version_major": 2,
       "version_minor": 0
      },
      "text/plain": [
       "  0%|          | 0/1557 [00:00<?, ?it/s]"
      ]
     },
     "metadata": {},
     "output_type": "display_data"
    },
    {
     "name": "stdout",
     "output_type": "stream",
     "text": [
      "Epoch 9/15: Train Loss: 0.5833, Train Acc: 0.7103 | Val Loss: 0.5825, Val Acc: 0.7122\n"
     ]
    },
    {
     "data": {
      "application/vnd.jupyter.widget-view+json": {
       "model_id": "fe15f5d8857a4eeaab4582c6fa14a066",
       "version_major": 2,
       "version_minor": 0
      },
      "text/plain": [
       "  0%|          | 0/1557 [00:00<?, ?it/s]"
      ]
     },
     "metadata": {},
     "output_type": "display_data"
    },
    {
     "name": "stdout",
     "output_type": "stream",
     "text": [
      "Epoch 10/15: Train Loss: 0.5793, Train Acc: 0.7145 | Val Loss: 0.5783, Val Acc: 0.7161\n"
     ]
    },
    {
     "data": {
      "application/vnd.jupyter.widget-view+json": {
       "model_id": "17f63dac90cb4a788853cd278ed1512c",
       "version_major": 2,
       "version_minor": 0
      },
      "text/plain": [
       "  0%|          | 0/1557 [00:00<?, ?it/s]"
      ]
     },
     "metadata": {},
     "output_type": "display_data"
    },
    {
     "name": "stdout",
     "output_type": "stream",
     "text": [
      "Epoch 11/15: Train Loss: 0.5757, Train Acc: 0.7179 | Val Loss: 0.5748, Val Acc: 0.7196\n"
     ]
    },
    {
     "data": {
      "application/vnd.jupyter.widget-view+json": {
       "model_id": "ab12a8dd23b249cf90a1e8e50a2cf352",
       "version_major": 2,
       "version_minor": 0
      },
      "text/plain": [
       "  0%|          | 0/1557 [00:00<?, ?it/s]"
      ]
     },
     "metadata": {},
     "output_type": "display_data"
    },
    {
     "name": "stdout",
     "output_type": "stream",
     "text": [
      "Epoch 12/15: Train Loss: 0.5726, Train Acc: 0.7209 | Val Loss: 0.5712, Val Acc: 0.7230\n"
     ]
    },
    {
     "data": {
      "application/vnd.jupyter.widget-view+json": {
       "model_id": "b965784a226b4c0794bf4c54e81811d1",
       "version_major": 2,
       "version_minor": 0
      },
      "text/plain": [
       "  0%|          | 0/1557 [00:00<?, ?it/s]"
      ]
     },
     "metadata": {},
     "output_type": "display_data"
    },
    {
     "name": "stdout",
     "output_type": "stream",
     "text": [
      "Epoch 13/15: Train Loss: 0.5691, Train Acc: 0.7239 | Val Loss: 0.5680, Val Acc: 0.7248\n"
     ]
    },
    {
     "data": {
      "application/vnd.jupyter.widget-view+json": {
       "model_id": "c233770f0ad7441ea55915af6e0effc9",
       "version_major": 2,
       "version_minor": 0
      },
      "text/plain": [
       "  0%|          | 0/1557 [00:00<?, ?it/s]"
      ]
     },
     "metadata": {},
     "output_type": "display_data"
    },
    {
     "name": "stdout",
     "output_type": "stream",
     "text": [
      "Epoch 14/15: Train Loss: 0.5671, Train Acc: 0.7257 | Val Loss: 0.5674, Val Acc: 0.7258\n"
     ]
    },
    {
     "data": {
      "application/vnd.jupyter.widget-view+json": {
       "model_id": "23ddc2928fa646c1a957004b457342fc",
       "version_major": 2,
       "version_minor": 0
      },
      "text/plain": [
       "  0%|          | 0/1557 [00:00<?, ?it/s]"
      ]
     },
     "metadata": {},
     "output_type": "display_data"
    },
    {
     "name": "stdout",
     "output_type": "stream",
     "text": [
      "Epoch 15/15: Train Loss: 0.5662, Train Acc: 0.7264 | Val Loss: 0.5670, Val Acc: 0.7259\n"
     ]
    }
   ],
   "source": [
    "for epoch in tqdm(range(cfg.epochs)):\n",
    "    \n",
    "    train_loss, train_acc = train_one_epoch(model, train_loader, optimizer, scheduler, criterion, cfg.device)\n",
    "    val_loss, val_acc = evaluate(model, val_loader, criterion, cfg.device)\n",
    "\n",
    "    train_losses.append(train_loss)\n",
    "    val_losses.append(val_loss)\n",
    "    train_accuracies.append(train_acc)\n",
    "    val_accuracies.append(val_acc)\n",
    "\n",
    "    print(f\"Epoch {epoch+1}/{cfg.epochs}: Train Loss: {train_loss:.4f}, Train Acc: {train_acc:.4f} | Val Loss: {val_loss:.4f}, Val Acc: {val_acc:.4f}\")"
   ]
  },
  {
   "cell_type": "code",
   "execution_count": 8,
   "metadata": {},
   "outputs": [
    {
     "data": {
      "image/png": "[encoded data removed]",
      "text/plain": [
       "<Figure size 1200x500 with 2 Axes>"
      ]
     },
     "metadata": {},
     "output_type": "display_data"
    },
    {
     "name": "stdout",
     "output_type": "stream",
     "text": [
      "Final Validation Loss: 0.5667, Final Validation Accuracy: 0.7258\n"
     ]
    }
   ],
   "source": [
    "plt.figure(figsize=(12, 5))\n",
    "plt.subplot(1,2,1)\n",
    "plt.plot(train_losses, label='Train Loss')\n",
    "plt.plot(val_losses, label='Validation Loss')\n",
    "plt.xlabel(\"Epoch\")\n",
    "plt.ylabel(\"Loss\")\n",
    "plt.legend()\n",
    "plt.title(\"Loss Curve\")\n",
    "\n",
    "plt.subplot(1,2,2)\n",
    "plt.plot(train_accuracies, label='Train Accuracy')\n",
    "plt.plot(val_accuracies, label='Validation Accuracy')\n",
    "plt.xlabel(\"Epoch\")\n",
    "plt.ylabel(\"Accuracy\")\n",
    "plt.legend()\n",
    "plt.title(\"Accuracy Curve\")\n",
    "plt.tight_layout()\n",
    "plt.show()\n",
    "\n",
    "val_loss, val_acc = evaluate(model, val_loader, criterion, cfg.device)\n",
    "print(f\"Final Validation Loss: {val_loss:.4f}, Final Validation Accuracy: {val_acc:.4f}\")\n",
    "\n",
    "torch.save(model.state_dict(), \"resnet18_particle_classifier.pth\")"
   ]
  },
  {
   "cell_type": "markdown",
   "metadata": {},
   "source": [
    "### Evaluate the final model"
   ]
  },
  {
   "cell_type": "code",
   "execution_count": 9,
   "metadata": {},
   "outputs": [
    {
     "name": "stdout",
     "output_type": "stream",
     "text": [
      "Final Validation Loss: 0.5667, Final Validation Accuracy: 0.7262\n"
     ]
    }
   ],
   "source": [
    "model = load_model(\"resnet18_particle_classifier.pth\")\n",
    "val_loss, val_acc = evaluate(model, val_loader, criterion, cfg.device)\n",
    "print(f\"Final Validation Loss: {val_loss:.4f}, Final Validation Accuracy: {val_acc:.4f}\")"
   ]
  }
 ],
 "metadata": {
  "kernelspec": {
   "display_name": "cut3r",
   "language": "python",
   "name": "python3"
  },
  "language_info": {
   "codemirror_mode": {
    "name": "ipython",
    "version": 3
   },
   "file_extension": ".py",
   "mimetype": "text/x-python",
   "name": "python",
   "nbconvert_exporter": "python",
   "pygments_lexer": "ipython3",
   "version": "3.11.11"
  }
 },
 "nbformat": 4,
 "nbformat_minor": 2
}
